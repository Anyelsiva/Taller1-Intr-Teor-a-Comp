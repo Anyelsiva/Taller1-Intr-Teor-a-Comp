{
 "cells": [
  {
   "cell_type": "markdown",
   "metadata": {},
   "source": [
    "# Punto 1\n",
    "\n",
    "|titulo|estado|\n",
    "|-|-|\n",
    "|q0|q33|\n",
    "|q1|q44|\n",
    "\n",
    "<img src=\"sss.jpg\" style=\"width:300px;hight:300px;\">\n",
    "$\\hat{\\delta}((q_{1_0},q_{2_0}),u) \\in F_1 \\times F_2$\n",
    "\n",
    "<img src=\"sss.jpg\" style=\"aspect:300px;\">"
   ]
  },
  {
   "cell_type": "markdown",
   "metadata": {},
   "source": [
    "# Punto 2\n",
    "\n",
    "|$\\delta$| $a$  |  $b$ |\n",
    "|-|-|-|\n",
    "|$\\to \\ast q_0$ |$q_1$|$q_4$\n",
    "|$\\ast q_1$|$q_2$|$q_4$|\n",
    "|$\\ast q_2$|$q_3$|$q_4$|\n",
    "|$q_3$|$q_3$|$q_3$|\n",
    "|$\\ast q_4$|$q_1$|$q_5$|\n",
    "|$\\ast q_5$|$q_1$|$q_3$|\n"
   ]
  },
  {
   "cell_type": "markdown",
   "metadata": {},
   "source": [
    "# Punto 3\n",
    "\n",
    "Sea $M=(Q,\\Sigma,\\delta,q_0,F)$ un autómata finito determinístico.\n",
    "\n",
    "Apartir de $M$ construimos el autómata finito determinístico $M'=(Q,\\Sigma,\\delta,q_0,F')$ \n",
    " donde $F'=Q \\setminus F=\\{x \\in Q: x\\not\\in F\\}$.\n",
    " \n",
    " Sea $u \\in \\Sigma^\\ast $\n",
    " \n",
    " Si $u \\not\\in L(M)$ entonces $\\hat{\\delta}(q_0,u)\\not\\in F$. Luego, $\\hat{\\delta}(q_0,u)\\in Q \\setminus F=F'$ con lo cual   $u \\in L(M')$.\n",
    " \n",
    " Si $u \\in L(M)$ entonces $\\hat{\\delta}(q_0,u)\\in F$. Luego, $\\hat{\\delta}(q_0,u)\\not\\in Q \\setminus F=F'$ con lo cual   $u \\not\\in L(M')$.\n",
    " \n",
    " De esta forma tenemos que $u \\in L(M)$ si y solo si $u \\not\\in L(M')$."
   ]
  },
  {
   "cell_type": "markdown",
   "metadata": {},
   "source": [
    "# Punto 3\n",
    "\n",
    "\n",
    " $M_1=(Q_1,\\Sigma,\\delta_1, q_{1_0}, F_1)$\n",
    " \n",
    " $M_2=(Q_2,\\Sigma,\\delta_2, q_{2_0}, F_2)$\n",
    " \n",
    " Construimos el autómata producto $M=(Q_q \\times Q_2, \\Sigma, \\delta, \n",
    " (q_{1_0},q_{2_0}), F_1 \\times F_2)$\n",
    " \n",
    " donde $\\delta$ es la función definida por $\\delta ((q_{1_i} , q_{2_j} ),a)= ({\\delta_1}(q_{1_i},a),{\\delta_2}(q_{2_j},a))$.\n",
    " \n",
    " \n",
    " \n",
    " Veamos por inducción que para toda palabra w en $\\Sigma^\\ast$ se tiene que $\\hat{\\delta}((q_{1_0},q_{2_0}),w) = (\\hat{\\delta}(q_{1_0},w),\\hat{\\delta}(q_{2_0},w))$.\n",
    "  \n",
    "  Si $ |w|=0 $ entonces $w=\\epsilon$. Luego, \n",
    "  \n",
    "  \n",
    "  $\\hat{\\delta}((q_{1_0},q_{2_0}),\\epsilon)=(q_{1_0},q_{2_0})=(\\hat{\\delta}_1(q_{1_0},a),\\hat{\\delta}_2(q_{2_0},a))$.\n",
    "  \n",
    "  Asumamos que la afirmación es verdadera para palabras de longitud $n$. \n",
    "  Sea $w$ una palabra en $\\Sigma^\\ast$ tal que $w=xa$ con $|x|=n$, de esta forma $|w|=n+1$.\n",
    "  \n",
    "  $\\hat{\\delta}((q_{1_0},q_{2_0}),w)= \\delta(\\hat{\\delta}((q_{1_0},q_{2_0}),x),a)    =\\delta(\\hat{\\delta_1}(q_{1_0},x),\\hat{\\delta_2}(q_{2_0},x)),a) =(\\delta_1(\\hat{\\delta_1}(q_{1_0},x),a),\\delta_2(\\hat{\\delta_2}(q_{2_0},x),a))    = (\\hat{\\delta}_1(q_{1_0},w),\\hat{\\delta}_2(q_{2_0},w))$\n",
    "  \n",
    "  Ahora veamos que dado $u \\in \\Sigma^\\star$, $u$ es aceptado por $M$ si y solo si $u$ es aceptado por $M_1$ y por $M_2$.\n",
    "  \n",
    "  $u \\in L(M) \\Leftrightarrow \\hat{\\delta}((q_{1_0},q_{2_0}),u) \\in F_1 \\times F_2$\n",
    "  \n",
    "  $\\Leftrightarrow$    $(\\hat{\\delta_1}(q_{1_0},u),\\hat{\\delta_2}(q_{2_0},u)) \\in F_1 \\times F_2$\n",
    "  \n",
    "  $\\Leftrightarrow$    $\\hat{\\delta_1}(q_{1_0},u) \\in F_1$ y $\\hat{\\delta_2}(q_{2_0},u) \\in F_2$ \n",
    "  \n",
    "  $\\Leftrightarrow$   $u \\in L(M_1)$ y $u \\in L(M_2)$."
   ]
  }
 ],
 "metadata": {
  "kernelspec": {
   "display_name": "Python 3",
   "language": "python",
   "name": "python3"
  },
  "language_info": {
   "codemirror_mode": {
    "name": "ipython",
    "version": 3
   },
   "file_extension": ".py",
   "mimetype": "text/x-python",
   "name": "python",
   "nbconvert_exporter": "python",
   "pygments_lexer": "ipython3",
   "version": "3.6.0"
  }
 },
 "nbformat": 4,
 "nbformat_minor": 2
}
